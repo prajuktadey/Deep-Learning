{
  "nbformat": 4,
  "nbformat_minor": 0,
  "metadata": {
    "colab": {
      "provenance": []
    },
    "kernelspec": {
      "name": "python3",
      "display_name": "Python 3"
    },
    "language_info": {
      "name": "python"
    }
  },
  "cells": [
    {
      "cell_type": "code",
      "execution_count": 1,
      "metadata": {
        "id": "8j5hTT6s06pm"
      },
      "outputs": [],
      "source": [
        "%%capture\n",
        "!pip install -U tensorflow-text\n",
        "!pip install tf-models-official"
      ]
    },
    {
      "cell_type": "code",
      "source": [
        "import os\n",
        "import shutil\n",
        "from pathlib import Path\n",
        "\n",
        "import tensorflow as tf\n",
        "import tensorflow_hub\n",
        "import tensorflow_text as text\n",
        "from official.nlp import optimization  # to create AdamW optimizer\n",
        "import datetime\n",
        "\n",
        "import matplotlib.pyplot as plt\n",
        "\n",
        "tf.get_logger().setLevel('ERROR')"
      ],
      "metadata": {
        "colab": {
          "base_uri": "https://localhost:8080/"
        },
        "id": "gJxesRHw1Q4n",
        "outputId": "432859b4-4378-4a34-8ee9-bfe710d63b79"
      },
      "execution_count": 2,
      "outputs": [
        {
          "output_type": "stream",
          "name": "stderr",
          "text": [
            "/usr/local/lib/python3.9/dist-packages/tensorflow_addons/utils/tfa_eol_msg.py:23: UserWarning: \n",
            "\n",
            "TensorFlow Addons (TFA) has ended development and introduction of new features.\n",
            "TFA has entered a minimal maintenance and release mode until a planned end of life in May 2024.\n",
            "Please modify downstream libraries to take dependencies from other repositories in our TensorFlow community (e.g. Keras, Keras-CV, and Keras-NLP). \n",
            "\n",
            "For more information see: https://github.com/tensorflow/addons/issues/2807 \n",
            "\n",
            "  warnings.warn(\n"
          ]
        }
      ]
    },
    {
      "cell_type": "code",
      "source": [
        "url = 'https://ai.stanford.edu/~amaas/data/sentiment/aclImdb_v1.tar.gz'\n",
        "\n",
        "dataset = tf.keras.utils.get_file('aclImdb_v1.tar.gz', url,\n",
        "                                  untar=True, cache_dir='.',\n",
        "                                  cache_subdir='')\n",
        "\n",
        "dataset_dir = Path('.') / 'aclImdb'\n",
        "train_dir = Path(dataset_dir) / 'train'\n",
        "test_dir = Path(dataset_dir) / 'test'\n",
        "\n",
        "remove_dir = Path(train_dir) / 'unsup'\n",
        "shutil.rmtree(remove_dir)\n",
        "\n",
        "AUTOTUNE = tf.data.AUTOTUNE\n",
        "batch_size = 32\n",
        "seed = 1\n",
        "\n",
        "raw_train_ds = tf.keras.preprocessing.text_dataset_from_directory(\n",
        "    train_dir,\n",
        "    batch_size=batch_size,\n",
        "    validation_split=0.2,\n",
        "    subset='training',\n",
        "    seed=seed)\n",
        "\n",
        "class_names = raw_train_ds.class_names\n",
        "train_ds = raw_train_ds.cache().prefetch(buffer_size=AUTOTUNE)\n",
        "\n",
        "val_ds = tf.keras.preprocessing.text_dataset_from_directory(\n",
        "    train_dir,\n",
        "    batch_size=batch_size,\n",
        "    validation_split=0.2,\n",
        "    subset='validation',\n",
        "    seed=seed)\n",
        "\n",
        "val_ds = val_ds.cache().prefetch(buffer_size=AUTOTUNE)\n",
        "\n",
        "test_ds = tf.keras.preprocessing.text_dataset_from_directory(\n",
        "    test_dir,\n",
        "    batch_size=batch_size)\n",
        "\n"
      ],
      "metadata": {
        "colab": {
          "base_uri": "https://localhost:8080/"
        },
        "id": "uc6sMOl-1Tao",
        "outputId": "69909b96-4552-4aed-d571-280ce47f9158"
      },
      "execution_count": 3,
      "outputs": [
        {
          "output_type": "stream",
          "name": "stdout",
          "text": [
            "Downloading data from https://ai.stanford.edu/~amaas/data/sentiment/aclImdb_v1.tar.gz\n",
            "84125825/84125825 [==============================] - 5s 0us/step\n",
            "Found 25000 files belonging to 2 classes.\n",
            "Using 20000 files for training.\n",
            "Found 25000 files belonging to 2 classes.\n",
            "Using 5000 files for validation.\n",
            "Found 25000 files belonging to 2 classes.\n"
          ]
        }
      ]
    },
    {
      "cell_type": "markdown",
      "source": [
        "Overview of the reviews:"
      ],
      "metadata": {
        "id": "TOl1Zfgf1i7P"
      }
    },
    {
      "cell_type": "code",
      "source": [
        "test_ds = test_ds.cache().prefetch(buffer_size=AUTOTUNE)\n",
        "\n",
        "for text_batch, label_batch in train_ds.take(1):\n",
        "  for i in range(3):\n",
        "    print(f'Review: {text_batch.numpy()[i]}')\n",
        "    label = label_batch.numpy()[i]\n",
        "    print(f'Label : {label} ({class_names[label]})')"
      ],
      "metadata": {
        "colab": {
          "base_uri": "https://localhost:8080/"
        },
        "id": "LtzL9dDl1g5h",
        "outputId": "9a5570ab-05c6-4916-bc83-7243dde6c28c"
      },
      "execution_count": 4,
      "outputs": [
        {
          "output_type": "stream",
          "name": "stdout",
          "text": [
            "Review: b'Stupid and just plain weird movie about some kid who becomes traumatized when he finds out Santa isn\\'t real (???). He grows up and becomes an adult (Brandon Maggart) who makes lists of people who are naughty or nice. One Christmas he snaps and sets out to kill the naughty people--dressed as Santa of course.<br /><br />Boring and just plain bad killer Santa movie. If you\\'re looking for gore, it\\'s not here. Only a few of the murders are shown and they\\'re not that gory with VERY fake effects. Most of the movie just contains Brandon Maggart talking to himself and slowly going crazy. The script is trite, the acting is terrible and it leads to an ending which had me staring slack-jawed at the TV. Seriously, I had to rewind the tape and watch it again to make sure I wasn\\'t hallucinating! Really REALLY poor ending.<br /><br />If you want a scary Christmas flick rent \"Black Christmas\" (the original 70s version---NOT the terrible remake). Avoid this one at all costs.'\n",
            "Label : 0 (neg)\n",
            "Review: b'Well, I just discovered that there is a show more disgusting and shocking than \"Little Britain\" and I like it! \"The League of Gentlemen\" is a sick British comedy that is about the most awful, insane and disgusting small town in all the UK. This place makes Dibley and Craggy Island (from \"The Vicar of Dibley\" and \"Father Ted\") seem pretty normal!! The format of the show is a lot like LITTLE Britain except that all of it centers around the townspeople of this one hellish town. Both shows feature the same skits again and again every episode and some obviously inspired \"Little Britain\" (particularly the job seeking class skit). But the show differs because although it is crude like \"Little Britain\" (hence not a show for kids), the show has a sick and sadistic quality that sets it apart from all these shows. In particular, animal cruelty and serial killing are recurring themes throughout the show.<br /><br />Now if you haven\\'t guessed, this is NOT a show for kids, the easily offended or normal people and that\\'s probably why I liked it. However, you really do need very thick skin and a love of the awful to enjoy this to the max. Funny and incredibly irreverent beyond belief--you have to see it to believe it.'\n",
            "Label : 1 (pos)\n",
            "Review: b\"I really looked forward to seeing Nana after seeing Renoir amazing debut work, Whirlpool of Fate. I had read that Nana was generally considered his best silent film so I had high hopes. Sadly this felt like a huge step backwards.<br /><br />Catherine Hessling is the main problem with this film. Her acting is over the top, even for a silent film. Her acting is more like what one would expect in a film from the early teens, not the late 20s. She usually has the same face, which reminds me (sorry to say) of someone with constipation pains. It was also very difficult to believe that any man would fall for this femme fatale. There was nothing charming about her at all.<br /><br />The film was also quite long drawn, the camera work was uninteresting (aside from a shot of a horse race) and the editing was dull. The story reminded me of Pabst's Pandora's Box. It is interesting to compare the two because there are only 3 years between these films. Pandora's Box simply scores on every level where Nana fails.<br /><br />This film is only for Renoir completists or very serious silent films buffs.\"\n",
            "Label : 0 (neg)\n"
          ]
        }
      ]
    },
    {
      "cell_type": "markdown",
      "source": [
        "Building the model:"
      ],
      "metadata": {
        "id": "ik4H9WT71oYi"
      }
    },
    {
      "cell_type": "code",
      "source": [
        "#tfhub_handle_encoder = 'https://tfhub.dev/tensorflow/bert_en_uncased_L-12_H-768_A-12/3' # BERT model\n",
        "tfhub_handle_encoder = 'https://tfhub.dev/tensorflow/small_bert/bert_en_uncased_L-2_H-128_A-2/1' # small BERT model\n",
        "tfhub_handle_preprocess = 'https://tfhub.dev/tensorflow/bert_en_cased_preprocess/3'\n",
        "bert_preprocess_model = tensorflow_hub.KerasLayer(tfhub_handle_preprocess)\n",
        "\n",
        "sentence = ['I like nlp']\n",
        "text_preprocessed = bert_preprocess_model(sentence)\n",
        "\n",
        "print(f'Shape      : {text_preprocessed[\"input_word_ids\"].shape}')\n",
        "print(f'Word Ids   : {text_preprocessed[\"input_word_ids\"][0, :12]}')\n",
        "print(f'Input Mask : {text_preprocessed[\"input_mask\"][0, :12]}')\n",
        "print(f'Type Ids   : {text_preprocessed[\"input_type_ids\"][0, :12]}')"
      ],
      "metadata": {
        "colab": {
          "base_uri": "https://localhost:8080/"
        },
        "id": "jfRXMTz51ni-",
        "outputId": "554b5a20-2480-43ba-b3a5-ad84c9d49230"
      },
      "execution_count": 5,
      "outputs": [
        {
          "output_type": "stream",
          "name": "stdout",
          "text": [
            "Shape      : (1, 128)\n",
            "Word Ids   : [ 101  146 1176  183 1233 1643  102    0    0    0    0    0]\n",
            "Input Mask : [1 1 1 1 1 1 1 0 0 0 0 0]\n",
            "Type Ids   : [0 0 0 0 0 0 0 0 0 0 0 0]\n"
          ]
        }
      ]
    },
    {
      "cell_type": "code",
      "source": [
        "bert_model = tensorflow_hub.KerasLayer(tfhub_handle_encoder)\n",
        "\n",
        "bert_results = bert_model(text_preprocessed)\n",
        "\n",
        "print(f'Loaded BERT: {tfhub_handle_encoder}')\n",
        "print(f'Pooled Outputs Shape:{bert_results[\"pooled_output\"].shape}')\n",
        "print(f'Pooled Outputs Values:{bert_results[\"pooled_output\"][0, :12]}')\n",
        "print(f'Sequence Outputs Shape:{bert_results[\"sequence_output\"].shape}')\n",
        "print(f'Sequence Outputs Values:{bert_results[\"sequence_output\"][0, :12]}')"
      ],
      "metadata": {
        "colab": {
          "base_uri": "https://localhost:8080/"
        },
        "id": "itw6osEq1tem",
        "outputId": "08914ef8-8838-4e26-fd5f-575c5fb5619b"
      },
      "execution_count": 6,
      "outputs": [
        {
          "output_type": "stream",
          "name": "stdout",
          "text": [
            "Loaded BERT: https://tfhub.dev/tensorflow/small_bert/bert_en_uncased_L-2_H-128_A-2/1\n",
            "Pooled Outputs Shape:(1, 128)\n",
            "Pooled Outputs Values:[-0.9999982   0.081607   -0.9971956   0.01151122 -0.9965372  -0.10179879\n",
            " -0.91629314 -0.726131    0.16070108 -0.15485592 -0.1403125  -0.09926453]\n",
            "Sequence Outputs Shape:(1, 128, 128)\n",
            "Sequence Outputs Values:[[-1.247094   -0.348022   -2.8169596  ... -1.0223976  -0.5486642\n",
            "   0.4155478 ]\n",
            " [-1.3511565  -1.3228742   0.63541454 ... -0.9826267  -1.5024691\n",
            "   1.1037158 ]\n",
            " [-1.9130938  -0.85812074  0.33952504 ... -2.4654903  -1.1236168\n",
            "   1.3087872 ]\n",
            " ...\n",
            " [-1.2427813  -1.431713    0.31718177 ... -1.5987799  -0.8911335\n",
            "   0.88397235]\n",
            " [-1.0035266  -1.31159     0.27349642 ... -1.4690684  -0.95014274\n",
            "   0.73115623]\n",
            " [-0.9430742  -1.1566832   0.39200246 ... -1.224145   -1.1596254\n",
            "   0.5896002 ]]\n"
          ]
        }
      ]
    },
    {
      "cell_type": "markdown",
      "source": [
        "Bert Classifier:"
      ],
      "metadata": {
        "id": "QTSApqoT1v-o"
      }
    },
    {
      "cell_type": "code",
      "source": [
        "def bert_classifier():\n",
        "  text_input = tf.keras.layers.Input(shape=(), dtype=tf.string, name='text')\n",
        "  preprocessing_layer = tensorflow_hub.KerasLayer(tfhub_handle_preprocess, name='preprocessing')\n",
        "  encoder_inputs = preprocessing_layer(text_input)\n",
        "  encoder = tensorflow_hub.KerasLayer(tfhub_handle_encoder, trainable=True, name='BERT_encoder')\n",
        "  outputs = encoder(encoder_inputs)\n",
        "  net = outputs['pooled_output']\n",
        "  net = tf.keras.layers.Dropout(0.1)(net)\n",
        "  net = tf.keras.layers.Dense(1, activation=None, name='classifier')(net)\n",
        "  return tf.keras.Model(text_input, net)"
      ],
      "metadata": {
        "id": "_Jkz89Qs1vZf"
      },
      "execution_count": 7,
      "outputs": []
    },
    {
      "cell_type": "code",
      "source": [
        "model = bert_classifier()\n",
        "bert_raw_result = model(tf.constant(sentence))\n",
        "print(tf.sigmoid(bert_raw_result))"
      ],
      "metadata": {
        "colab": {
          "base_uri": "https://localhost:8080/"
        },
        "id": "H1k__gPk10CT",
        "outputId": "17875498-ed2f-4d52-dc14-29c1f32f7efe"
      },
      "execution_count": 8,
      "outputs": [
        {
          "output_type": "stream",
          "name": "stdout",
          "text": [
            "tf.Tensor([[0.2138686]], shape=(1, 1), dtype=float32)\n"
          ]
        }
      ]
    },
    {
      "cell_type": "code",
      "source": [
        "tf.keras.utils.plot_model(model)"
      ],
      "metadata": {
        "colab": {
          "base_uri": "https://localhost:8080/",
          "height": 466
        },
        "id": "w8VaZUE8128d",
        "outputId": "260c8a1b-3d6c-43d3-ff92-7a52d8833e49"
      },
      "execution_count": 9,
      "outputs": [
        {
          "output_type": "execute_result",
          "data": {
            "image/png": "[encoded data removed]",
            "text/plain": [
              "<IPython.core.display.Image object>"
            ]
          },
          "metadata": {},
          "execution_count": 9
        }
      ]
    },
    {
      "cell_type": "code",
      "source": [
        "# Loss function\n",
        "loss = tf.keras.losses.BinaryCrossentropy(from_logits=True)\n",
        "metrics = tf.metrics.BinaryAccuracy()\n",
        "\n",
        "# Optimizer\n",
        "epochs = 10\n",
        "steps_per_epoch = tf.data.experimental.cardinality(train_ds).numpy()\n",
        "num_train_steps = steps_per_epoch * epochs\n",
        "num_warmup_steps = int(0.1*num_train_steps)\n",
        "\n",
        "init_lr = 3e-5\n",
        "optimizer = optimization.create_optimizer(init_lr=init_lr,\n",
        "                                          num_train_steps=num_train_steps,\n",
        "                                          num_warmup_steps=num_warmup_steps,\n",
        "                                          optimizer_type='adamw')\n",
        "\n",
        "model.compile(optimizer=optimizer,\n",
        "              loss=loss,\n",
        "              metrics=metrics)"
      ],
      "metadata": {
        "id": "kgRxX6jf16LS"
      },
      "execution_count": 10,
      "outputs": []
    },
    {
      "cell_type": "code",
      "source": [
        "CHECKPOINT_DIR = './BERT_training_checkpoints'\n",
        "CHECKPOINT_PREFIX = Path(CHECKPOINT_DIR) / \"checkpoint_{epoch}\"\n",
        "\n",
        "checkpoint = tf.keras.callbacks.ModelCheckpoint(\n",
        "    filepath=CHECKPOINT_PREFIX,\n",
        "    monitor='val_accuracy',\n",
        "    mode='max')"
      ],
      "metadata": {
        "id": "6anLHUTw184q"
      },
      "execution_count": 11,
      "outputs": []
    },
    {
      "cell_type": "code",
      "source": [
        "MODEL_NAME = f'BERT-{datetime.datetime.now():%Y%m%d-%H%M%S}'\n",
        "\n",
        "CHECKPOINT_DIR = './' + MODEL_NAME\n",
        "CHECKPOINT_PREFIX = Path(CHECKPOINT_DIR) / \"checkpoint_{epoch}\"\n",
        "\n",
        "checkpoint = tf.keras.callbacks.ModelCheckpoint(\n",
        "    filepath=CHECKPOINT_PREFIX,\n",
        "    monitor='val_accuracy',\n",
        "    mode='max')\n",
        "\n",
        "tensorboard = tf.keras.callbacks.TensorBoard(\n",
        "                            log_dir=f'./tensorboardlogs/{MODEL_NAME}',\n",
        "                            write_graph=True,\n",
        "                            write_images=True,\n",
        "                            histogram_freq=1)"
      ],
      "metadata": {
        "id": "xxlFqNT-19cR"
      },
      "execution_count": 15,
      "outputs": []
    },
    {
      "cell_type": "code",
      "source": [
        "callbacks = [\n",
        "                checkpoint,\n",
        "                tensorboard\n",
        "]\n",
        "\n",
        "hist = model.fit(\n",
        "              train_ds,\n",
        "              epochs=epochs,\n",
        "              validation_data=val_ds,\n",
        "              callbacks=callbacks).history"
      ],
      "metadata": {
        "id": "Mm7xTVO13vdE"
      },
      "execution_count": null,
      "outputs": []
    }
  ]
}