{
 "cells": [
  {
   "cell_type": "code",
   "execution_count": null,
   "id": "124ce3bf",
   "metadata": {
    "scrolled": true
   },
   "outputs": [],
   "source": [
    "import numpy as np\n",
    "import matplotlib.pyplot as plt\n",
    "%config InlineBackend.figure_formats = 'retina'\n",
    "from matplotlib import rcParams\n",
    "from EC_CV import *\n",
    "import cv2\n",
    "\n",
    "rcParams['figure.figsize'] = (20,28)\n",
    "\n",
    "img = plt.imread('TheWall.bmp')\n",
    "plt.imshow(img)\n",
    "np.shape(img)"
   ]
  },
  {
   "cell_type": "code",
   "execution_count": null,
   "id": "87d65dad",
   "metadata": {},
   "outputs": [],
   "source": [
    "#splitting the image in two separate parts, right at the piece of litter.\n",
    "\n",
    "imgL = img[:,:870]\n",
    "imgR = img[:,870:]\n",
    "print(np.shape(imgL))\n",
    "print(np.shape(imgR))\n",
    "\n",
    "fig, ax = plt.subplots(1,2)\n",
    "ax[0].imshow(imgL)\n",
    "ax[1].imshow(imgR)"
   ]
  },
  {
   "cell_type": "code",
   "execution_count": null,
   "id": "bbfab4b5",
   "metadata": {
    "scrolled": true
   },
   "outputs": [],
   "source": [
    "#looking at the two images put together in a vertical \n",
    "#straight line at the middle of their overlap\n",
    "\n",
    "overlap = 70 # also try 52 and 46\n",
    "heightL, widthL, temp = imgL.shape\n",
    "heightR, widthR, temp = imgR.shape\n",
    "    \n",
    "stitch = np.concatenate((imgL[:,:widthL-int(overlap/2)], imgR[:,int(overlap/2):]), axis=1)\n",
    "plt.imshow(stitch)"
   ]
  },
  {
   "cell_type": "code",
   "execution_count": null,
   "id": "d97a95da",
   "metadata": {
    "scrolled": true
   },
   "outputs": [],
   "source": [
    "#zooming in to appreciate the splitting artifact\n",
    "\n",
    "rcParams['figure.figsize'] = (20,10)\n",
    "tiny_stitch = stitch[int(heightL/2)-overlap*2:int(heightL/2)+overlap*2,widthL-overlap*2:widthL+overlap]\n",
    "plt.imshow(tiny_stitch)"
   ]
  },
  {
   "cell_type": "code",
   "execution_count": null,
   "id": "06fd0ca6",
   "metadata": {
    "scrolled": true
   },
   "outputs": [],
   "source": [
    "#using a section of 100 vertical pixels, let's look at \n",
    "#the Left and Right components of the overlap.\n",
    "\n",
    "rcParams['figure.figsize'] = (20,8)\n",
    "\n",
    "tinyL = imgL[:100,widthL-overlap:]\n",
    "tinyR = imgR[:100,:overlap]\n",
    "\n",
    "# display images\n",
    "fig, ax = plt.subplots(1,2)\n",
    "ax[0].imshow(tinyL)\n",
    "ax[1].imshow(tinyR)"
   ]
  },
  {
   "cell_type": "code",
   "execution_count": null,
   "id": "e08f57bc",
   "metadata": {
    "scrolled": true
   },
   "outputs": [],
   "source": [
    "#caluclating the difference\n",
    "\n",
    "rcParams['figure.figsize'] = (20,10)\n",
    "\n",
    "#turn both sections to grayscale\n",
    "tinyL_g = np.dot(tinyL[...,:3], [0.299,0.587,0.114])\n",
    "tinyR_g = np.dot(tinyR[...,:3], [0.299,0.587,0.114])\n",
    "\n",
    "#calculate their squared difference\n",
    "diff = cv2.subtract(tinyL_g,tinyR_g)\n",
    "diff = cv2.multiply(diff,diff)\n",
    "\n",
    "#display the squared difference\n",
    "plt.imshow(diff,cmap='gray')\n",
    "np.shape(diff)"
   ]
  },
  {
   "cell_type": "code",
   "execution_count": null,
   "id": "1edfbf74",
   "metadata": {
    "scrolled": true
   },
   "outputs": [],
   "source": [
    "#calculating the seam for the small squared difference\n",
    "#the get_seam() function is defined in EC_CV.py\n",
    "\n",
    "height, width = diff.shape\n",
    "my_seam = get_seam(diff)\n",
    "\n",
    "#show the seam in the squared difference with white pixels\n",
    "diff_seam = diff.copy()\n",
    "height, width = diff.shape\n",
    "for i in range(height):\n",
    "    diff_seam[i,int(my_seam[i])] = 255 * 255 # This is white squared\n",
    "plt.imshow(diff_seam,cmap='gray')\n",
    "print(height)\n",
    "print(width)"
   ]
  },
  {
   "cell_type": "code",
   "execution_count": null,
   "id": "f5e63b22",
   "metadata": {
    "scrolled": true
   },
   "outputs": [],
   "source": [
    "#using the whole overlap, let's look at its Left and Right components.\n",
    "\n",
    "rcParams['figure.figsize'] = (20,8)\n",
    "tinyL = imgL[:,widthL-overlap:]\n",
    "tinyR = imgR[:,:overlap]\n",
    "\n",
    "fig, ax = plt.subplots(1,2)\n",
    "ax[0].imshow(tinyL)\n",
    "ax[1].imshow(tinyR)"
   ]
  },
  {
   "cell_type": "code",
   "execution_count": null,
   "id": "063f28a9",
   "metadata": {
    "scrolled": true
   },
   "outputs": [],
   "source": [
    "#calculating their difference.\n",
    "\n",
    "#turning both sections to grayscale\n",
    "tinyL_g = np.dot(tinyL[...,:3], [0.299,0.587,0.114])\n",
    "tinyR_g = np.dot(tinyR[...,:3], [0.299,0.587,0.114])\n",
    "\n",
    "#calculate their squared difference\n",
    "diff = cv2.subtract(tinyL_g,tinyR_g)\n",
    "diff = cv2.multiply(diff,diff)\n",
    "\n",
    "#display the squared difference\n",
    "plt.imshow(diff,cmap='gray')\n",
    "np.shape(diff)"
   ]
  },
  {
   "cell_type": "code",
   "execution_count": null,
   "id": "ae89efbb",
   "metadata": {
    "scrolled": false
   },
   "outputs": [],
   "source": [
    "#let's calculate the seam for the squared difference\n",
    "rcParams['figure.figsize'] = (20,28)\n",
    "height, width = diff.shape\n",
    "my_seam = get_seam(diff)\n",
    "\n",
    "#show the seam in the squared difference with white pixels\n",
    "diff_seam = diff.copy()\n",
    "height, width = diff.shape\n",
    "for i in range(height):\n",
    "    diff_seam[i,int(my_seam[i])] = 255 * 255 # This is white squared\n",
    "plt.imshow(diff_seam,cmap='gray')\n",
    "print(height)\n",
    "print(width)"
   ]
  },
  {
   "cell_type": "code",
   "execution_count": null,
   "id": "6480a051",
   "metadata": {
    "scrolled": false
   },
   "outputs": [],
   "source": [
    "# First let's create the middle section.\n",
    "# This is the overlapping section, with pixels from both Left and\n",
    "# Right components. The seam determines where Left pixels end\n",
    "# and Right pixels start.\n",
    "\n",
    "middle = tinyL.copy()    # Start with Left overlap.\n",
    "\n",
    "# For every row in the middle section, replace Left pixels with \n",
    "# Right pixels starting at the seam.\n",
    "for i in range(height):   \n",
    "    j = int(my_seam[i])\n",
    "    while j < width:\n",
    "        middle[i,j] = tinyR[i,j]\n",
    "        j += 1\n",
    "    \n",
    "# Now let's create a marked middle section to show the seam with red pixels.\n",
    "middle_marked = middle.copy()\n",
    "for i in range(height):\n",
    "    middle_marked[i,int(my_seam[i])] = np.array((255,0,0))\n",
    "        \n",
    "rcParams['figure.figsize'] = (20,28)        \n",
    "plt.imshow(middle_marked,cmap='gray')"
   ]
  },
  {
   "cell_type": "code",
   "execution_count": null,
   "id": "14276318",
   "metadata": {},
   "outputs": [],
   "source": [
    "# Now let's create the stitched image consisting of:\n",
    "#    The Leftmost Image (minus the overlap) \n",
    "#       + The Middle Section with the seam in red \n",
    "#          + The Rightmost Section (minus the overlap)\n",
    "\n",
    "cut_stitch = np.concatenate((imgL[:,:widthL-overlap], middle_marked), axis=1)\n",
    "cut_stitch = np.concatenate((cut_stitch, imgR[:,overlap:]), axis=1)\n",
    "plt.imshow(cut_stitch)"
   ]
  },
  {
   "cell_type": "code",
   "execution_count": null,
   "id": "909a14de",
   "metadata": {},
   "outputs": [],
   "source": [
    "#creating the stitched image, not showing the seam.\n",
    "\n",
    "cut_stitch = np.concatenate((imgL[:,:widthL-overlap], middle), axis=1)\n",
    "cut_stitch = np.concatenate((cut_stitch, imgR[:,overlap:]), axis=1)\n",
    "plt.imshow(cut_stitch)"
   ]
  },
  {
   "cell_type": "code",
   "execution_count": null,
   "id": "4aa63d0f",
   "metadata": {},
   "outputs": [],
   "source": [
    "#displaying both zoomed-in results\n",
    "\n",
    "rcParams['figure.figsize'] = (20,10)\n",
    "\n",
    "tiny_stitch = stitch[int(heightL/2)-overlap*2:int(heightL/2)+overlap*2,widthL-overlap*2:widthL+overlap]\n",
    "tiny_cut_stitch = cut_stitch[int(heightL/2)-overlap*2:int(heightL/2)+overlap*2,widthL-overlap*2:widthL+overlap]\n",
    "\n",
    "fig, ax = plt.subplots(1,2)\n",
    "ax[0].imshow(tiny_stitch)\n",
    "ax[1].imshow(tiny_cut_stitch)"
   ]
  },
  {
   "cell_type": "code",
   "execution_count": null,
   "id": "0f2af524",
   "metadata": {},
   "outputs": [],
   "source": [
    "#finally let's save the stiched image into a file\n",
    "plt.imsave(\"stitched.bmp\",cut_stitch)"
   ]
  }
 ],
 "metadata": {
  "kernelspec": {
   "display_name": "Python 3 (ipykernel)",
   "language": "python",
   "name": "python3"
  },
  "language_info": {
   "codemirror_mode": {
    "name": "ipython",
    "version": 3
   },
   "file_extension": ".py",
   "mimetype": "text/x-python",
   "name": "python",
   "nbconvert_exporter": "python",
   "pygments_lexer": "ipython3",
   "version": "3.11.1"
  }
 },
 "nbformat": 4,
 "nbformat_minor": 5
}
