{
 "cells": [
  {
   "cell_type": "code",
   "execution_count": null,
   "id": "ddfa78c2",
   "metadata": {
    "scrolled": true
   },
   "outputs": [],
   "source": [
    "import numpy as np\n",
    "import matplotlib.pyplot as plt\n",
    "%config InlineBackend.figure_formats = 'retina'\n",
    "from matplotlib import rcParams\n",
    "from EC_CV import *\n",
    "import cv2\n",
    "\n",
    "rcParams['figure.figsize'] = (24, 10)\n",
    "\n",
    "img = plt.imread('field.jpg')\n",
    "plt.axis(\"off\")\n",
    "plt.imshow(img)"
   ]
  },
  {
   "cell_type": "code",
   "execution_count": null,
   "id": "d029fdfe",
   "metadata": {
    "scrolled": true
   },
   "outputs": [],
   "source": [
    "#opencv function to work with color and grayscale\n",
    "\n",
    "median = cv2.medianBlur(img,5)\n",
    "plt.axis(\"off\")\n",
    "plt.imshow(median)"
   ]
  },
  {
   "cell_type": "code",
   "execution_count": null,
   "id": "c5c54278",
   "metadata": {
    "scrolled": true
   },
   "outputs": [],
   "source": [
    "#comparing the images side by side\n",
    "\n",
    "rcParams['figure.figsize'] = (20,8)\n",
    "\n",
    "kernel = np.ones((5, 5), np.float32) / 25\n",
    "average = cv2.filter2D(src=img, ddepth=-1, kernel=kernel)\n",
    "\n",
    "# display images\n",
    "fig, ax = plt.subplots(1,2)\n",
    "ax[0].imshow(average)\n",
    "ax[1].imshow(median)"
   ]
  },
  {
   "cell_type": "code",
   "execution_count": null,
   "id": "2923c15a",
   "metadata": {
    "scrolled": false
   },
   "outputs": [],
   "source": [
    "#zooming in to the leftmost section\n",
    "\n",
    "rcParams['figure.figsize'] = (20, 20)\n",
    "\n",
    "# display images\n",
    "fig, ax = plt.subplots(1,2)\n",
    "ax[0].imshow(average[:,:400])\n",
    "ax[1].imshow(median[:,:400])"
   ]
  },
  {
   "cell_type": "code",
   "execution_count": null,
   "id": "a3e5329d",
   "metadata": {
    "scrolled": true
   },
   "outputs": [],
   "source": [
    "#middle section\n",
    "\n",
    "fig, ax = plt.subplots(1,2)\n",
    "ax[0].imshow(average[:,400:800])\n",
    "ax[1].imshow(median[:,400:800])"
   ]
  },
  {
   "cell_type": "code",
   "execution_count": null,
   "id": "d28ed9d5",
   "metadata": {
    "scrolled": true
   },
   "outputs": [],
   "source": [
    "#rightmost section\n",
    "\n",
    "fig, ax = plt.subplots(1,2)\n",
    "ax[0].imshow(average[:,800:1200])\n",
    "ax[1].imshow(median[:,800:1200])"
   ]
  },
  {
   "cell_type": "code",
   "execution_count": null,
   "id": "6d1def21",
   "metadata": {},
   "outputs": [],
   "source": [
    "#different picture\n",
    "\n",
    "rcParams['figure.figsize'] = (24, 10)\n",
    "\n",
    "img = plt.imread('workers.jpg')\n",
    "plt.axis(\"off\")\n",
    "plt.imshow(img)"
   ]
  },
  {
   "cell_type": "code",
   "execution_count": null,
   "id": "e8136bfb",
   "metadata": {
    "scrolled": false
   },
   "outputs": [],
   "source": [
    "#opencv function to work with color and grayscale\n",
    "\n",
    "median = cv2.medianBlur(img,5)\n",
    "plt.axis(\"off\")\n",
    "plt.imshow(median)"
   ]
  },
  {
   "cell_type": "code",
   "execution_count": null,
   "id": "3a9fa2c2",
   "metadata": {},
   "outputs": [],
   "source": [
    "rcParams['figure.figsize'] = (20,8)\n",
    "\n",
    "kernel = np.ones((3, 3), np.float32) / 9\n",
    "average = cv2.filter2D(src=img, ddepth=-1, kernel=kernel)\n",
    "\n",
    "# display images\n",
    "fig, ax = plt.subplots(1,2)\n",
    "ax[0].imshow(average)\n",
    "ax[1].imshow(median)"
   ]
  },
  {
   "cell_type": "code",
   "execution_count": null,
   "id": "f377914c",
   "metadata": {
    "scrolled": true
   },
   "outputs": [],
   "source": [
    "#zooming in to the leftmost section\n",
    "\n",
    "rcParams['figure.figsize'] = (20, 20)\n",
    "\n",
    "# display images\n",
    "fig, ax = plt.subplots(1,2)\n",
    "ax[0].imshow(average[:,:400])\n",
    "ax[1].imshow(median[:,:400])"
   ]
  },
  {
   "cell_type": "code",
   "execution_count": null,
   "id": "90285228",
   "metadata": {
    "scrolled": true
   },
   "outputs": [],
   "source": [
    "#middle section\n",
    "\n",
    "fig, ax = plt.subplots(1,2)\n",
    "ax[0].imshow(average[:,400:800])\n",
    "ax[1].imshow(median[:,400:800])"
   ]
  },
  {
   "cell_type": "code",
   "execution_count": null,
   "id": "ee4d97c4",
   "metadata": {},
   "outputs": [],
   "source": [
    "#rightmost section\n",
    "\n",
    "fig, ax = plt.subplots(1,2)\n",
    "ax[0].imshow(average[:,800:1200])\n",
    "ax[1].imshow(median[:,800:1200])"
   ]
  }
 ],
 "metadata": {
  "kernelspec": {
   "display_name": "Python 3 (ipykernel)",
   "language": "python",
   "name": "python3"
  },
  "language_info": {
   "codemirror_mode": {
    "name": "ipython",
    "version": 3
   },
   "file_extension": ".py",
   "mimetype": "text/x-python",
   "name": "python",
   "nbconvert_exporter": "python",
   "pygments_lexer": "ipython3",
   "version": "3.11.1"
  }
 },
 "nbformat": 4,
 "nbformat_minor": 5
}
