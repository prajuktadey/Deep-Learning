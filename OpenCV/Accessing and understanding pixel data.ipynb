{
 "cells": [
  {
   "cell_type": "code",
   "execution_count": 1,
   "id": "6623b98b",
   "metadata": {},
   "outputs": [],
   "source": [
    "import numpy as np\n",
    "import cv2\n",
    "from matplotlib import pyplot as plt"
   ]
  },
  {
   "cell_type": "code",
   "execution_count": 3,
   "id": "95a8d034",
   "metadata": {},
   "outputs": [],
   "source": [
    "#the 1 at the end is telling opencv to download the image as a full color image\n",
    "img = cv2.imread('house.jpg', 1)"
   ]
  },
  {
   "cell_type": "markdown",
   "id": "3fc6e5dc",
   "metadata": {},
   "source": [
    "If we pass in 0, we're trying to read the image as black and white."
   ]
  },
  {
   "cell_type": "code",
   "execution_count": 4,
   "id": "8f0f3577",
   "metadata": {
    "scrolled": true
   },
   "outputs": [
    {
     "data": {
      "text/plain": [
       "array([[[ 99, 166, 175],\n",
       "        [ 84, 152, 157],\n",
       "        [ 83, 153, 153],\n",
       "        ...,\n",
       "        [221, 216, 207],\n",
       "        [127, 122, 113],\n",
       "        [ 91,  86,  77]],\n",
       "\n",
       "       [[105, 169, 180],\n",
       "        [ 86, 151, 159],\n",
       "        [ 55, 125, 125],\n",
       "        ...,\n",
       "        [175, 169, 162],\n",
       "        [131, 125, 118],\n",
       "        [163, 157, 150]],\n",
       "\n",
       "       [[113, 170, 185],\n",
       "        [103, 165, 175],\n",
       "        [ 52, 123, 127],\n",
       "        ...,\n",
       "        [105,  96,  93],\n",
       "        [124, 115, 112],\n",
       "        [194, 185, 182]],\n",
       "\n",
       "       ...,\n",
       "\n",
       "       [[ 55, 124,  97],\n",
       "        [ 61, 129, 104],\n",
       "        [ 52, 120,  97],\n",
       "        ...,\n",
       "        [  0,  94,  60],\n",
       "        [  5,  95,  65],\n",
       "        [ 26, 114,  84]],\n",
       "\n",
       "       [[ 63, 134, 107],\n",
       "        [ 44, 115,  88],\n",
       "        [ 56, 121,  99],\n",
       "        ...,\n",
       "        [  3, 100,  68],\n",
       "        [  0,  94,  63],\n",
       "        [  7,  99,  70]],\n",
       "\n",
       "       [[ 45, 119,  89],\n",
       "        [ 56, 127, 100],\n",
       "        [ 63, 128, 106],\n",
       "        ...,\n",
       "        [  7, 100,  71],\n",
       "        [  9, 101,  72],\n",
       "        [  3,  94,  68]]], dtype=uint8)"
      ]
     },
     "execution_count": 4,
     "metadata": {},
     "output_type": "execute_result"
    }
   ],
   "source": [
    "img"
   ]
  },
  {
   "cell_type": "markdown",
   "id": "ff13e9b6",
   "metadata": {},
   "source": [
    "The above cell displays all the pixels found in the image itself."
   ]
  },
  {
   "cell_type": "code",
   "execution_count": 5,
   "id": "63d04d5d",
   "metadata": {},
   "outputs": [
    {
     "data": {
      "text/plain": [
       "numpy.ndarray"
      ]
     },
     "execution_count": 5,
     "metadata": {},
     "output_type": "execute_result"
    }
   ],
   "source": [
    "#displaying the datatype \n",
    "type(img)"
   ]
  },
  {
   "cell_type": "code",
   "execution_count": 6,
   "id": "5fc6c686",
   "metadata": {},
   "outputs": [
    {
     "data": {
      "text/plain": [
       "863"
      ]
     },
     "execution_count": 6,
     "metadata": {},
     "output_type": "execute_result"
    }
   ],
   "source": [
    "#total number of elements in the image\n",
    "len(img)"
   ]
  },
  {
   "cell_type": "markdown",
   "id": "c54b6a7d",
   "metadata": {},
   "source": [
    "We can see that the image is a list like object with 863 elements."
   ]
  },
  {
   "cell_type": "code",
   "execution_count": 7,
   "id": "59260fb3",
   "metadata": {
    "scrolled": true
   },
   "outputs": [
    {
     "data": {
      "text/plain": [
       "1253"
      ]
     },
     "execution_count": 7,
     "metadata": {},
     "output_type": "execute_result"
    }
   ],
   "source": [
    "#diaplying the number of vertical columns\n",
    "len(img[0])"
   ]
  },
  {
   "cell_type": "markdown",
   "id": "1cde2f85",
   "metadata": {},
   "source": [
    "There are 1253 vertical columns."
   ]
  },
  {
   "cell_type": "code",
   "execution_count": 8,
   "id": "7c1df9f4",
   "metadata": {},
   "outputs": [
    {
     "data": {
      "text/plain": [
       "3"
      ]
     },
     "execution_count": 8,
     "metadata": {},
     "output_type": "execute_result"
    }
   ],
   "source": [
    "#displaying the number of channels\n",
    "len(img[0][0])"
   ]
  },
  {
   "cell_type": "markdown",
   "id": "f95c9eef",
   "metadata": {},
   "source": [
    "The above cell indicates there's an R, G, B channel.\n",
    "\n",
    "If there was a transparency layer or alpha layer, it would be 4."
   ]
  },
  {
   "cell_type": "code",
   "execution_count": 9,
   "id": "dc621277",
   "metadata": {},
   "outputs": [
    {
     "data": {
      "text/plain": [
       "(863, 1253, 3)"
      ]
     },
     "execution_count": 9,
     "metadata": {},
     "output_type": "execute_result"
    }
   ],
   "source": [
    "#rows, columns and channels\n",
    "img.shape"
   ]
  },
  {
   "cell_type": "code",
   "execution_count": 10,
   "id": "ae12774b",
   "metadata": {
    "scrolled": true
   },
   "outputs": [
    {
     "data": {
      "text/plain": [
       "dtype('uint8')"
      ]
     },
     "execution_count": 10,
     "metadata": {},
     "output_type": "execute_result"
    }
   ],
   "source": [
    "#type of image\n",
    "img.dtype"
   ]
  },
  {
   "cell_type": "markdown",
   "id": "44093287",
   "metadata": {},
   "source": [
    "The image has an unsigned integer value of 8 which tells us it has a maximum of 2^8 values in each pixel.\n",
    "\n",
    "The range of values vary from 0-255."
   ]
  },
  {
   "cell_type": "code",
   "execution_count": 11,
   "id": "a40db046",
   "metadata": {
    "scrolled": true
   },
   "outputs": [
    {
     "data": {
      "text/plain": [
       "array([ 84, 152, 151], dtype=uint8)"
      ]
     },
     "execution_count": 11,
     "metadata": {},
     "output_type": "execute_result"
    }
   ],
   "source": [
    "#displaying the pixel values\n",
    "img[10,5]"
   ]
  },
  {
   "cell_type": "code",
   "execution_count": 12,
   "id": "6270de37",
   "metadata": {},
   "outputs": [
    {
     "data": {
      "text/plain": [
       "3244017"
      ]
     },
     "execution_count": 12,
     "metadata": {},
     "output_type": "execute_result"
    }
   ],
   "source": [
    "#total number of datapoints\n",
    "img.size"
   ]
  }
 ],
 "metadata": {
  "kernelspec": {
   "display_name": "Python 3 (ipykernel)",
   "language": "python",
   "name": "python3"
  },
  "language_info": {
   "codemirror_mode": {
    "name": "ipython",
    "version": 3
   },
   "file_extension": ".py",
   "mimetype": "text/x-python",
   "name": "python",
   "nbconvert_exporter": "python",
   "pygments_lexer": "ipython3",
   "version": "3.11.1"
  }
 },
 "nbformat": 4,
 "nbformat_minor": 5
}
