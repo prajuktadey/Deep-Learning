{
 "cells": [
  {
   "cell_type": "code",
   "execution_count": 1,
   "id": "0b4974f9",
   "metadata": {},
   "outputs": [],
   "source": [
    "import numpy as np\n",
    "import cv2"
   ]
  },
  {
   "cell_type": "code",
   "execution_count": 4,
   "id": "b46afb8b",
   "metadata": {},
   "outputs": [],
   "source": [
    "img = cv2.imread(\"players.jpg\", 1)\n",
    "\n",
    "#half the size of the original image\n",
    "img_half = cv2.resize(img, (0,0), fx=0.5, fy=0.5)\n",
    "img_stretch = cv2.resize(img, (600,600))\n",
    "img_stretch_near = cv2.resize(img, (600,600),interpolation=cv2.INTER_NEAREST)\n",
    "\n",
    "cv2.imshow(\"Half\", img_half)\n",
    "cv2.imshow(\"Stretch\", img_stretch)\n",
    "cv2.imshow(\"Stretch near\", img_stretch_near)\n",
    "\n",
    "cv2.waitKey(0)\n",
    "cv2.destroyAllWindows()"
   ]
  },
  {
   "cell_type": "code",
   "execution_count": 5,
   "id": "3243a851",
   "metadata": {},
   "outputs": [],
   "source": [
    "#rotation\n",
    "M= cv2.getRotationMatrix2D((0,0),-30, 1)\n",
    "rotated = cv2.warpAffine(img, M, (img.shape[1], img.shape[0]))\n",
    "\n",
    "cv2.imshow(\"Rotated\", rotated)\n",
    "cv2.waitKey(0)\n",
    "cv2.destroyAllWindows()"
   ]
  }
 ],
 "metadata": {
  "kernelspec": {
   "display_name": "Python 3 (ipykernel)",
   "language": "python",
   "name": "python3"
  },
  "language_info": {
   "codemirror_mode": {
    "name": "ipython",
    "version": 3
   },
   "file_extension": ".py",
   "mimetype": "text/x-python",
   "name": "python",
   "nbconvert_exporter": "python",
   "pygments_lexer": "ipython3",
   "version": "3.11.1"
  }
 },
 "nbformat": 4,
 "nbformat_minor": 5
}
