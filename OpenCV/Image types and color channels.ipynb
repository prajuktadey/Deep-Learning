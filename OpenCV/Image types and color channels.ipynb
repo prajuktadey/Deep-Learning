{
 "cells": [
  {
   "cell_type": "code",
   "execution_count": 4,
   "id": "164e627f",
   "metadata": {},
   "outputs": [],
   "source": [
    "import numpy as np\n",
    "import cv2"
   ]
  },
  {
   "cell_type": "code",
   "execution_count": null,
   "id": "e6e161e9",
   "metadata": {},
   "outputs": [
    {
     "name": "stdout",
     "output_type": "stream",
     "text": [
      "(356, 493, 3)\n"
     ]
    }
   ],
   "source": [
    "color = cv2.imread(\"butterfly.jpg\", 1)\n",
    "cv2.imshow(\"Image\",color)\n",
    "cv2.moveWindow(\"Image\",0,0)\n",
    "print(color.shape)\n",
    "height,width,channels = color.shape\n",
    "\n",
    "b,g,r = cv2.split(color)\n",
    "\n",
    "rgb_split = np.empty([height,width*3,3],'uint8')\n",
    "\n",
    "rgb_split[:, 0:width] = cv2.merge([b,b,b])\n",
    "rgb_split[:, width:width*2] = cv2.merge([g,g,g])\n",
    "rgb_split[:, width*2:width*3] = cv2.merge([r,r,r])\n",
    "\n",
    "cv2.imshow(\"Channels\",rgb_split)\n",
    "cv2.moveWindow(\"Channels\",0,height)\n",
    "\n",
    "hsv = cv2.cvtColor(color, cv2.COLOR_BGR2HSV)\n",
    "h,s,v = cv2.split(hsv)\n",
    "hsv_split = np.concatenate((h,s,v),axis=1)\n",
    "cv2.imshow(\"Split HSV\",hsv_split)\n",
    "\n",
    "cv2.waitKey(0)\n",
    "cv2.destroyAllWindows()"
   ]
  }
 ],
 "metadata": {
  "kernelspec": {
   "display_name": "Python 3 (ipykernel)",
   "language": "python",
   "name": "python3"
  },
  "language_info": {
   "codemirror_mode": {
    "name": "ipython",
    "version": 3
   },
   "file_extension": ".py",
   "mimetype": "text/x-python",
   "name": "python",
   "nbconvert_exporter": "python",
   "pygments_lexer": "ipython3",
   "version": "3.11.1"
  }
 },
 "nbformat": 4,
 "nbformat_minor": 5
}
