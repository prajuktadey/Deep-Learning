{
 "cells": [
  {
   "cell_type": "code",
   "execution_count": 1,
   "id": "87877821",
   "metadata": {},
   "outputs": [],
   "source": [
    "import numpy as np\n",
    "import cv2"
   ]
  },
  {
   "cell_type": "code",
   "execution_count": 3,
   "id": "9d0f071d",
   "metadata": {},
   "outputs": [],
   "source": [
    "# Global variables\n",
    "canvas = np.ones([500,500,3],'uint8')*255\n",
    "radius = 3\n",
    "color = (0,255,0)\n",
    "pressed = False\n",
    "\n",
    "# click callback\n",
    "def click(event, x, y, flags, param):\n",
    "\tglobal canvas, pressed\n",
    "\tif event == cv2.EVENT_LBUTTONDOWN:\n",
    "\t\tpressed = True\n",
    "\t\tcv2.circle(canvas,(x,y),radius,color,-1)\n",
    "\telif event == cv2.EVENT_MOUSEMOVE and pressed == True:\n",
    "\t\tcv2.circle(canvas,(x,y),radius,color,-1)\n",
    "\telif event == cv2.EVENT_LBUTTONUP:\n",
    "\t\tpressed = False\n",
    "\n",
    "# window initialization and callback assignment\n",
    "cv2.namedWindow(\"canvas\")\n",
    "cv2.setMouseCallback(\"canvas\", click)\n",
    "\n",
    "# Forever draw loop\n",
    "while True:\n",
    "\n",
    "\tcv2.imshow(\"canvas\",canvas)\n",
    "\n",
    "\t# key capture every 1ms\n",
    "\tch = cv2.waitKey(1)\n",
    "\tif ch & 0xFF == ord('q'):\n",
    "\t\tbreak\n",
    "\telif ch & 0xFF == ord('b'):\n",
    "\t\tcolor = (255,0,0)\n",
    "\telif ch & 0xFF == ord('g'):\n",
    "\t\tcolor = (0,255,0)\n",
    "\t\n",
    "\n",
    "cv2.destroyAllWindows()"
   ]
  }
 ],
 "metadata": {
  "kernelspec": {
   "display_name": "Python 3 (ipykernel)",
   "language": "python",
   "name": "python3"
  },
  "language_info": {
   "codemirror_mode": {
    "name": "ipython",
    "version": 3
   },
   "file_extension": ".py",
   "mimetype": "text/x-python",
   "name": "python",
   "nbconvert_exporter": "python",
   "pygments_lexer": "ipython3",
   "version": "3.11.1"
  }
 },
 "nbformat": 4,
 "nbformat_minor": 5
}
