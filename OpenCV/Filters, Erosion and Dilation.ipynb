{
 "cells": [
  {
   "cell_type": "markdown",
   "id": "c641c095",
   "metadata": {},
   "source": [
    "The Gaussian blur filter smooths an image by averaging pixel values with its neighbours. It is often used to smooth out the noise in the image."
   ]
  },
  {
   "cell_type": "code",
   "execution_count": 5,
   "id": "7e23bfd3",
   "metadata": {},
   "outputs": [],
   "source": [
    "import numpy as np\n",
    "import cv2"
   ]
  },
  {
   "cell_type": "code",
   "execution_count": 3,
   "id": "3845436e",
   "metadata": {},
   "outputs": [],
   "source": [
    "image = cv2.imread(\"thresh.jpg\")\n",
    "cv2.imshow(\"Original\",image)\n",
    "\n",
    "#gaussian blur\n",
    "blur = cv2.GaussianBlur(image, (5,55),0) #the value has to be odd\n",
    "# (5,55) means x axis will be blurred a little compared to the y axis\n",
    "\n",
    "cv2.imshow(\"Blur\", blur)\n",
    "cv2.waitKey(0)\n",
    "cv2.destroyAllWindows()"
   ]
  },
  {
   "cell_type": "markdown",
   "id": "e4c90d14",
   "metadata": {},
   "source": [
    "Dilation and Erosion are two operations that look to expand or contract the foreground pixels of an image to help remove or accentuate small pixel details.\n",
    "\n",
    "1.Erosion filter: turns white pixels into black pixels\n",
    "2.Dilation fiter: turns black pixels into white pixels"
   ]
  },
  {
   "cell_type": "code",
   "execution_count": 7,
   "id": "4b021b85",
   "metadata": {},
   "outputs": [],
   "source": [
    "kernel = np.ones((5,5),'uint8')\n",
    "\n",
    "#increase the level of iterations if we want a higher effect\n",
    "dilate = cv2.dilate(image, kernel, iterations=1)\n",
    "erode = cv2.erode(image, kernel, iterations=1)\n",
    "\n",
    "cv2.imshow(\"Dilate\", dilate)\n",
    "cv2.imshow(\"Erode\", erode)\n",
    "\n",
    "cv2.waitKey(0)\n",
    "cv2.destroyAllWindows()"
   ]
  }
 ],
 "metadata": {
  "kernelspec": {
   "display_name": "Python 3 (ipykernel)",
   "language": "python",
   "name": "python3"
  },
  "language_info": {
   "codemirror_mode": {
    "name": "ipython",
    "version": 3
   },
   "file_extension": ".py",
   "mimetype": "text/x-python",
   "name": "python",
   "nbconvert_exporter": "python",
   "pygments_lexer": "ipython3",
   "version": "3.11.1"
  }
 },
 "nbformat": 4,
 "nbformat_minor": 5
}
