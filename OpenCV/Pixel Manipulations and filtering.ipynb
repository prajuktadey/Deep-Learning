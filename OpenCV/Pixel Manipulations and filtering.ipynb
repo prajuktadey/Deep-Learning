{
 "cells": [
  {
   "cell_type": "code",
   "execution_count": 5,
   "id": "6464c5b9",
   "metadata": {},
   "outputs": [],
   "source": [
    "import numpy as np\n",
    "import cv2"
   ]
  },
  {
   "cell_type": "code",
   "execution_count": 6,
   "id": "f874ba5e",
   "metadata": {},
   "outputs": [
    {
     "data": {
      "text/plain": [
       "True"
      ]
     },
     "execution_count": 6,
     "metadata": {},
     "output_type": "execute_result"
    }
   ],
   "source": [
    "color = cv2.imread(\"butterfly.jpg\",1)\n",
    "\n",
    "#converting the image to a grayscale image\n",
    "gray = cv2.cvtColor(color, cv2.COLOR_RGB2GRAY)\n",
    "cv2.imwrite(\"gray.jpg\",gray)\n",
    "\n",
    "#the fourth channel is for transparency (alpha channel)\n",
    "#splitting of the b,g,r channels\n",
    "b = color[:,:,0]\n",
    "g = color[:,:,1]\n",
    "r = color[:,:,2]\n",
    "\n",
    "rgba = cv2.merge((b,g,r,g))#the g at the end is the transparency channel\n",
    "#if we want to make the non-green parts of the image transparent, we could pass the g channel.\n",
    "\n",
    "#jpg images do not support image transparency\n",
    "cv2.imwrite(\"rgba.png\",rgba)"
   ]
  }
 ],
 "metadata": {
  "kernelspec": {
   "display_name": "Python 3 (ipykernel)",
   "language": "python",
   "name": "python3"
  },
  "language_info": {
   "codemirror_mode": {
    "name": "ipython",
    "version": 3
   },
   "file_extension": ".py",
   "mimetype": "text/x-python",
   "name": "python",
   "nbconvert_exporter": "python",
   "pygments_lexer": "ipython3",
   "version": "3.11.1"
  }
 },
 "nbformat": 4,
 "nbformat_minor": 5
}
