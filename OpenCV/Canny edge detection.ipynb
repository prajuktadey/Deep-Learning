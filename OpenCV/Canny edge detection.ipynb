{
 "cells": [
  {
   "cell_type": "code",
   "execution_count": 1,
   "id": "80df1c8c",
   "metadata": {},
   "outputs": [],
   "source": [
    "import numpy as np\n",
    "import cv2"
   ]
  },
  {
   "cell_type": "code",
   "execution_count": 2,
   "id": "f80c84c0",
   "metadata": {},
   "outputs": [
    {
     "name": "stdout",
     "output_type": "stream",
     "text": [
      "Area:  1788.5\n",
      "Area:  1518.5\n",
      "Area:  966.5\n",
      "Area:  1436.0\n",
      "Area:  517.5\n",
      "Area:  6313.5\n",
      "Area:  6930.0\n",
      "Area:  307.0\n",
      "Area:  2636.0\n",
      "Area:  374.0\n"
     ]
    }
   ],
   "source": [
    "img = cv2.imread(\"tomatoes.jpg\",1)\n",
    "\n",
    "hsv = cv2.cvtColor(img, cv2.COLOR_BGR2HSV)\n",
    "res, thresh = cv2.threshold(hsv[:, :, 0], 25, 255, cv2.THRESH_BINARY_INV)\n",
    "cv2.imshow(\"Thresh\", thresh)\n",
    "\n",
    "edges = cv2.Canny(img, 100, 200, apertureSize=3)\n",
    "cv2.imshow(\"Canny\", edges)\n",
    "\n",
    "edge_inv = 255 - edges\n",
    "\n",
    "# Use erosion to increase size of the 'border'\n",
    "kernel = np.ones((3, 3), 'uint8')\n",
    "erode = cv2.erode(edge_inv, kernel, iterations=1)\n",
    "\n",
    "canny_thresh = cv2.bitwise_and(erode, thresh)\n",
    "cv2.imshow(\"Canny thresh\", canny_thresh)\n",
    "\n",
    "contours, hierarchy = cv2.findContours(\n",
    "\tcanny_thresh, cv2.RETR_TREE, cv2.CHAIN_APPROX_SIMPLE)\n",
    "\n",
    "objects = img.copy()\n",
    "for c in contours:\n",
    "\tarea = cv2.contourArea(c)\n",
    "\tif area < 300:\n",
    "\t\t# This contour is around something too small for our interest\n",
    "\t\tcontinue\n",
    "\tprint(\"Area: \", area)\n",
    "\tcv2.drawContours(objects, [c], -1, (255, 255, 255), 1)\n",
    "\tM = cv2.moments(c)\n",
    "\tcx = int(M['m10'] / M['m00'])\n",
    "\tcy = int(M['m01'] / M['m00'])\n",
    "\tcv2.circle(objects, (cx, cy), 4, (255, 255, 0), -1)\n",
    "\n",
    "cv2.imshow(\"Final draw-over\", objects)\n",
    "\n",
    "cv2.waitKey(0)\n",
    "cv2.destroyAllWindows()\n"
   ]
  }
 ],
 "metadata": {
  "kernelspec": {
   "display_name": "Python 3 (ipykernel)",
   "language": "python",
   "name": "python3"
  },
  "language_info": {
   "codemirror_mode": {
    "name": "ipython",
    "version": 3
   },
   "file_extension": ".py",
   "mimetype": "text/x-python",
   "name": "python",
   "nbconvert_exporter": "python",
   "pygments_lexer": "ipython3",
   "version": "3.11.1"
  }
 },
 "nbformat": 4,
 "nbformat_minor": 5
}
