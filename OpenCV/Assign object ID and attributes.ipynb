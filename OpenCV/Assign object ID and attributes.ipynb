{
 "cells": [
  {
   "cell_type": "code",
   "execution_count": 1,
   "id": "e26a2417",
   "metadata": {},
   "outputs": [],
   "source": [
    "import numpy as np\n",
    "import cv2\n",
    "from random import randint"
   ]
  },
  {
   "cell_type": "code",
   "execution_count": 2,
   "id": "7ab75a15",
   "metadata": {},
   "outputs": [
    {
     "name": "stdout",
     "output_type": "stream",
     "text": [
      "933\n",
      "3\n",
      "4942.0\n",
      "29907.5\n",
      "17280.5\n"
     ]
    }
   ],
   "source": [
    "img = cv2.imread(\"fuzzy.png\",1)\n",
    "cv2.imshow(\"Original\", img)\n",
    "\n",
    "gray = cv2.cvtColor(img, cv2.COLOR_BGR2GRAY)\n",
    "blur = cv2.GaussianBlur(gray, (5,5), 0)\n",
    "\n",
    "thresh = cv2.adaptiveThreshold(\n",
    "\tblur, 255,\n",
    "\tcv2.ADAPTIVE_THRESH_GAUSSIAN_C,\n",
    "\tcv2.THRESH_BINARY_INV, 205, 1)\n",
    "cv2.imshow(\"Thresh\", thresh)\n",
    "\n",
    "contours, hierarchy = cv2.findContours(\n",
    "\tthresh, cv2.RETR_TREE, cv2.CHAIN_APPROX_SIMPLE)\n",
    "print(len(contours))\n",
    "\n",
    "filtered = []\n",
    "for c in contours:\n",
    "\tif cv2.contourArea(c) < 1000:\n",
    "\t\tcontinue\n",
    "\tfiltered.append(c)\n",
    "print(len(filtered))\n",
    "\n",
    "objects = np.zeros([img.shape[0], img.shape[1], 3], 'uint8')\n",
    "for c in filtered:\n",
    "\tcol = (randint(0,255), randint(0,255), randint(0,255))\n",
    "\tcv2.drawContours(objects, [c], -1, col, -1)\n",
    "\tarea = cv2.contourArea(c)\n",
    "\tprint(area)\n",
    "\n",
    "cv2.imshow(\"Final\", objects)\n",
    "\n",
    "cv2.waitKey(0)\n",
    "cv2.destroyAllWindows()"
   ]
  }
 ],
 "metadata": {
  "kernelspec": {
   "display_name": "Python 3 (ipykernel)",
   "language": "python",
   "name": "python3"
  },
  "language_info": {
   "codemirror_mode": {
    "name": "ipython",
    "version": 3
   },
   "file_extension": ".py",
   "mimetype": "text/x-python",
   "name": "python",
   "nbconvert_exporter": "python",
   "pygments_lexer": "ipython3",
   "version": "3.11.1"
  }
 },
 "nbformat": 4,
 "nbformat_minor": 5
}
