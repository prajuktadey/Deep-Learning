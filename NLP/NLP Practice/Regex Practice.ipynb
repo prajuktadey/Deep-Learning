{
 "cells": [
  {
   "cell_type": "code",
   "execution_count": 1,
   "id": "7135d623",
   "metadata": {},
   "outputs": [],
   "source": [
    "#importing the regex module\n",
    "import re"
   ]
  },
  {
   "cell_type": "code",
   "execution_count": 18,
   "id": "f7a0d9a5",
   "metadata": {},
   "outputs": [],
   "source": [
    "chat1 = 'codebasics: you ask a lot of questions 1235678912,1234567893, abc@xyz.com'\n",
    "chat2 = 'codebasics: here it is (123)-567-8912, abc@xyz.io'\n",
    "chat3 = 'codebasics: yes, phone 1235678912, email:abc@xyz.com'"
   ]
  },
  {
   "cell_type": "code",
   "execution_count": 9,
   "id": "eaaa1458",
   "metadata": {},
   "outputs": [
    {
     "name": "stdout",
     "output_type": "stream",
     "text": [
      "['1235678912', '1234567893']\n"
     ]
    }
   ],
   "source": [
    "pattern = '\\d{10}'\n",
    "matches = re.findall(pattern, chat1)\n",
    "print(matches)"
   ]
  },
  {
   "cell_type": "code",
   "execution_count": 4,
   "id": "4944d909",
   "metadata": {
    "scrolled": true
   },
   "outputs": [
    {
     "name": "stdout",
     "output_type": "stream",
     "text": [
      "['1235678912']\n"
     ]
    }
   ],
   "source": [
    "pattern = '\\d{10}'\n",
    "matches = re.findall(pattern, chat3)\n",
    "print(matches)"
   ]
  },
  {
   "cell_type": "code",
   "execution_count": 11,
   "id": "0b17b826",
   "metadata": {},
   "outputs": [
    {
     "name": "stdout",
     "output_type": "stream",
     "text": [
      "['(123)-567-8912']\n"
     ]
    }
   ],
   "source": [
    "pattern = '\\(\\d{3}\\)-\\d{3}-\\d{4}'\n",
    "matches = re.findall(pattern, chat2)\n",
    "print(matches)"
   ]
  },
  {
   "cell_type": "code",
   "execution_count": 12,
   "id": "7c9884a8",
   "metadata": {
    "scrolled": true
   },
   "outputs": [
    {
     "name": "stdout",
     "output_type": "stream",
     "text": [
      "['1235678912', '1234567893']\n"
     ]
    }
   ],
   "source": [
    "pattern = '\\d{10}|\\(\\d{3}\\)-\\d{3}-\\d{4}'\n",
    "matches = re.findall(pattern, chat1)\n",
    "print(matches)"
   ]
  },
  {
   "cell_type": "code",
   "execution_count": 13,
   "id": "4884a585",
   "metadata": {},
   "outputs": [
    {
     "name": "stdout",
     "output_type": "stream",
     "text": [
      "['(123)-567-8912']\n"
     ]
    }
   ],
   "source": [
    "pattern = '\\d{10}|\\(\\d{3}\\)-\\d{3}-\\d{4}'\n",
    "matches = re.findall(pattern, chat2)\n",
    "print(matches)"
   ]
  },
  {
   "cell_type": "code",
   "execution_count": 14,
   "id": "0ee36517",
   "metadata": {
    "scrolled": true
   },
   "outputs": [
    {
     "name": "stdout",
     "output_type": "stream",
     "text": [
      "['1235678912']\n"
     ]
    }
   ],
   "source": [
    "pattern = '\\d{10}|\\(\\d{3}\\)-\\d{3}-\\d{4}'\n",
    "matches = re.findall(pattern, chat3)\n",
    "print(matches)"
   ]
  },
  {
   "cell_type": "code",
   "execution_count": 15,
   "id": "9900ddaf",
   "metadata": {},
   "outputs": [
    {
     "name": "stdout",
     "output_type": "stream",
     "text": [
      "['abc@xyz.com']\n"
     ]
    }
   ],
   "source": [
    "emailpattern = '[a-z]+@[a-z]+.com'\n",
    "matches = re.findall(emailpattern, chat1)\n",
    "print(matches)"
   ]
  },
  {
   "cell_type": "code",
   "execution_count": 19,
   "id": "94f14b14",
   "metadata": {
    "scrolled": true
   },
   "outputs": [
    {
     "name": "stdout",
     "output_type": "stream",
     "text": [
      "[]\n"
     ]
    }
   ],
   "source": [
    "emailpattern = '[a-z]+@[a-z]+.com'\n",
    "matches = re.findall(emailpattern, chat2)\n",
    "print(matches)"
   ]
  },
  {
   "cell_type": "code",
   "execution_count": 20,
   "id": "b4f3c408",
   "metadata": {},
   "outputs": [
    {
     "name": "stdout",
     "output_type": "stream",
     "text": [
      "['abc@xyz.io']\n"
     ]
    }
   ],
   "source": [
    "emailpattern = '[a-z0-9A-Z_]*@[a-z0-9A-Z]*.[a-zA-Z]*'\n",
    "matches = re.findall(emailpattern, chat2)\n",
    "print(matches)"
   ]
  },
  {
   "cell_type": "code",
   "execution_count": 17,
   "id": "494e8b8e",
   "metadata": {
    "scrolled": true
   },
   "outputs": [
    {
     "name": "stdout",
     "output_type": "stream",
     "text": [
      "['abc@xyz.com']\n"
     ]
    }
   ],
   "source": [
    "emailpattern = '[a-z]+@[a-z]+.com'\n",
    "matches = re.findall(emailpattern, chat3)\n",
    "print(matches)"
   ]
  }
 ],
 "metadata": {
  "kernelspec": {
   "display_name": "Python 3 (ipykernel)",
   "language": "python",
   "name": "python3"
  },
  "language_info": {
   "codemirror_mode": {
    "name": "ipython",
    "version": 3
   },
   "file_extension": ".py",
   "mimetype": "text/x-python",
   "name": "python",
   "nbconvert_exporter": "python",
   "pygments_lexer": "ipython3",
   "version": "3.11.1"
  }
 },
 "nbformat": 4,
 "nbformat_minor": 5
}
